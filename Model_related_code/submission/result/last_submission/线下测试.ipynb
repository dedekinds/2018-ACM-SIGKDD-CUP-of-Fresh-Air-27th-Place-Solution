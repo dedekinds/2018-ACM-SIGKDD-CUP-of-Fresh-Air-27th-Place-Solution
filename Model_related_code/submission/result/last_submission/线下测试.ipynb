{
 "cells": [
  {
   "cell_type": "code",
   "execution_count": 16,
   "metadata": {},
   "outputs": [],
   "source": [
    "day ='09'\n",
    "#name = 'result_aqi48.csv'\n",
    "#os.system('python kdd_score.py ' +day +' '+name)"
   ]
  },
  {
   "cell_type": "code",
   "execution_count": 17,
   "metadata": {},
   "outputs": [
    {
     "data": {
      "text/plain": [
       "['result_aqi48_include_April.csv',\n",
       " 'result_aqi48.csv',\n",
       " 'result_aqi48_include_April_smape.csv',\n",
       " 'result_aqi48_75_include_April.csv',\n",
       " 'result_aqi48_75_include_April_smape_weather.csv',\n",
       " 'result_weather.csv',\n",
       " 'result_aqi48_include_April_smape_enhance.csv',\n",
       " 'result_aqi48_include_April_smape_v2.csv',\n",
       " 'result_merge_75smape_weather.csv',\n",
       " 'result_aqi48_75_include_April_v2.csv']"
      ]
     },
     "execution_count": 17,
     "metadata": {},
     "output_type": "execute_result"
    }
   ],
   "source": [
    "import os\n",
    "lst = os.listdir(os.getcwd())\n",
    "arr = []\n",
    "for c in lst:\n",
    "    if os.path.isfile(c) and c.endswith('.csv') and c.find(\"stat1\")==-1:\n",
    "        arr.append(c)\n",
    "arr"
   ]
  },
  {
   "cell_type": "code",
   "execution_count": 18,
   "metadata": {},
   "outputs": [
    {
     "name": "stdout",
     "output_type": "stream",
     "text": [
      "result_aqi48_include_April.csv\n",
      "result_aqi48.csv\n",
      "result_aqi48_include_April_smape.csv\n",
      "result_aqi48_75_include_April.csv\n",
      "result_aqi48_75_include_April_smape_weather.csv\n",
      "result_weather.csv\n",
      "result_aqi48_include_April_smape_enhance.csv\n",
      "result_aqi48_include_April_smape_v2.csv\n",
      "result_merge_75smape_weather.csv\n",
      "result_aqi48_75_include_April_v2.csv\n"
     ]
    }
   ],
   "source": [
    "for name in arr:\n",
    "    print(name)\n",
    "    os.system('python kdd_score.py ' +day +' '+name)"
   ]
  },
  {
   "cell_type": "code",
   "execution_count": null,
   "metadata": {},
   "outputs": [],
   "source": []
  },
  {
   "cell_type": "code",
   "execution_count": null,
   "metadata": {},
   "outputs": [],
   "source": []
  }
 ],
 "metadata": {
  "kernelspec": {
   "display_name": "Python [conda env:tensorflow_cpu]",
   "language": "python",
   "name": "conda-env-tensorflow_cpu-py"
  },
  "language_info": {
   "codemirror_mode": {
    "name": "ipython",
    "version": 3
   },
   "file_extension": ".py",
   "mimetype": "text/x-python",
   "name": "python",
   "nbconvert_exporter": "python",
   "pygments_lexer": "ipython3",
   "version": "3.6.4"
  }
 },
 "nbformat": 4,
 "nbformat_minor": 2
}
