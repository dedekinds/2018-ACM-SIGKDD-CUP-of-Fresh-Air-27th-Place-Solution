{
 "cells": [
  {
   "cell_type": "code",
   "execution_count": 2,
   "metadata": {},
   "outputs": [
    {
     "name": "stdout",
     "output_type": "stream",
     "text": [
      "0.5124278587545952\n"
     ]
    }
   ],
   "source": [
    "# -*- coding: utf-8 -*-\n",
    "\"\"\"\n",
    "Created on Tue May  1 14:39:04 2018\n",
    "\n",
    "@author: dedekinds\n",
    "\"\"\"\n",
    "\n",
    "import pandas as pd\n",
    "import numpy as np\n",
    "def smape(actual, predicted):\n",
    "    a = np.abs(np.array(actual) - np.array(predicted))\n",
    "    b = np.array(actual) + np.array(predicted)\n",
    "    \n",
    "    return 2 * np.mean(np.divide(a, b, out=np.zeros_like(a), where=b!=0, casting='unsafe'))\n",
    "#BJ_4_25_26_ground_truth_data.csv\n",
    "f = open('/home/dedekinds/BJ_4_29_30_ground_truth_data_weather.csv')#BJ_4_24_25_ground_truth_data.csv\n",
    "\n",
    "df =pd.read_csv(f)\n",
    "#df = df.dropna(axis=0,how='any')\n",
    "temp_data = df.values\n",
    "row = list(np.unique(np.where(np.isnan(temp_data))[0]))\n",
    "df = df.dropna(axis = 0,how='any')\n",
    "\n",
    "test = df.values\n",
    "\n",
    "\n",
    "arr= [\n",
    "    'result_BJ_aqi48_75_ans_include_April(smape_weather).csv',\n",
    "    #'result_BJ_aqi48_ans.csv',\n",
    "    #'result_BJ_aqi48_75_ans.csv',\n",
    "    #'result_BJ_Iteration_ans.csv',\n",
    "    #'result_BJ_aqi48_75_ans_include_April.csv',\n",
    "    #'result_BJ_aqi48_ans_include_April.csv',\n",
    "    \n",
    "    #'result_BJ_merge_ans(aqi48_75+iter)_1.csv',\n",
    "    #'result_BJ_merge_ans(aqi48_75+iter)_3.csv',\n",
    "    #'result_BJ_merge_ans(aqi48_75+iter)_5.csv',\n",
    "    #'result_BJ_merge_ans(aqi48_75+iter)_7.csv',\n",
    "    #'result_BJ_merge_ans(aqi48_75+iter)_9.csv',\n",
    "    \n",
    "    #'result_BJ_merge_ans(aqi48_75+aqi48)_1.csv',\n",
    "    #'result_BJ_merge_ans(aqi48_75+aqi48)_3.csv',\n",
    "    #'result_BJ_merge_ans(aqi48_75+aqi48)_5.csv',\n",
    "    #'result_BJ_merge_ans(aqi48_75+aqi48)_7.csv',\n",
    "    #'result_BJ_merge_ans(aqi48_75+aqi48)_9.csv',\n",
    "    \n",
    "    #'result_BJ_merge_ans(aqi48_75+iter)_include_April1.csv',\n",
    "    #'result_BJ_merge_ans(aqi48_75+iter)_include_April3.csv',\n",
    "    #'result_BJ_merge_ans(aqi48_75+iter)_include_April5.csv',\n",
    "    #'result_BJ_merge_ans(aqi48_75+iter)_include_April7.csv',\n",
    "    #'result_BJ_merge_ans(aqi48_75+iter)_include_April9.csv',\n",
    "    \n",
    "    #'result_BJ_merge_ans(aqi48_75+aqi48)_include_April1.csv',\n",
    "    #'result_BJ_merge_ans(aqi48_75+aqi48)_include_April3.csv',\n",
    "    #'result_BJ_merge_ans(aqi48_75+aqi48)_include_April5.csv',\n",
    "    #'result_BJ_merge_ans(aqi48_75+aqi48)_include_April7.csv',\n",
    "    #'result_BJ_merge_ans(aqi48_75+aqi48)_include_April9.csv',   \n",
    "]\n",
    "\n",
    "for ar in arr:\n",
    "    f = open(ar)#result_BJ_aqi48_ans.csv\n",
    "    df =pd.read_csv(f)\n",
    "    temp_data = df.values\n",
    "\n",
    "    temp_data = np.delete(temp_data,[0],axis = 1)\n",
    "    temp_data = np.delete(temp_data,row,axis = 0)\n",
    "\n",
    "    print(smape(temp_data,test))"
   ]
  },
  {
   "cell_type": "code",
   "execution_count": 7,
   "metadata": {},
   "outputs": [],
   "source": [
    "\n",
    "import pandas as pd\n",
    "import numpy as np\n",
    "def smape(actual, predicted):\n",
    "    a = np.abs(np.array(actual) - np.array(predicted))\n",
    "    b = np.array(actual) + np.array(predicted)\n",
    "    \n",
    "    return 2 * np.mean(np.divide(a, b, out=np.zeros_like(a), where=b!=0, casting='unsafe'))\n",
    "#BJ_4_25_26_ground_truth_data.csv\n",
    "f = open('/home/dedekinds/BJ_4_29_30_ground_truth_data.csv')#BJ_4_24_25_ground_truth_data.csv\n",
    "\n",
    "df =pd.read_csv(f)\n",
    "#df = df.dropna(axis=0,how='any')\n"
   ]
  },
  {
   "cell_type": "code",
   "execution_count": 9,
   "metadata": {},
   "outputs": [],
   "source": [
    "temp_data = df.values\n"
   ]
  },
  {
   "cell_type": "code",
   "execution_count": 10,
   "metadata": {},
   "outputs": [
    {
     "data": {
      "text/plain": [
       "array([['dongsi_aq', '2018/4/29 1:00:00', 187.0, 214.0, 35.0],\n",
       "       ['dongsi_aq', '2018/4/29 2:00:00', 215.0, 237.0, 29.0],\n",
       "       ['dongsi_aq', '2018/4/29 3:00:00', 134.0, 142.0, 49.0],\n",
       "       ...,\n",
       "       ['dongsihuan_aq', '2018/4/30 21:00:00', 40.0, 107.0, 2.0],\n",
       "       ['dongsihuan_aq', '2018/4/30 22:00:00', 52.0, 103.0, 2.0],\n",
       "       ['dongsihuan_aq', '2018/4/30 23:00:00', 53.0, 173.0, 2.0]],\n",
       "      dtype=object)"
      ]
     },
     "execution_count": 10,
     "metadata": {},
     "output_type": "execute_result"
    }
   ],
   "source": [
    "temp_data"
   ]
  },
  {
   "cell_type": "code",
   "execution_count": null,
   "metadata": {},
   "outputs": [],
   "source": []
  }
 ],
 "metadata": {
  "kernelspec": {
   "display_name": "Python [conda env:tensorflow_cpu]",
   "language": "python",
   "name": "conda-env-tensorflow_cpu-py"
  },
  "language_info": {
   "codemirror_mode": {
    "name": "ipython",
    "version": 3
   },
   "file_extension": ".py",
   "mimetype": "text/x-python",
   "name": "python",
   "nbconvert_exporter": "python",
   "pygments_lexer": "ipython3",
   "version": "3.6.4"
  }
 },
 "nbformat": 4,
 "nbformat_minor": 2
}
