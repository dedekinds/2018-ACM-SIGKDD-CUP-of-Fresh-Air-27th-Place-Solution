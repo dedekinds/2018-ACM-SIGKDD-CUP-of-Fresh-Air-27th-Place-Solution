{
 "cells": [
  {
   "cell_type": "code",
   "execution_count": 3,
   "metadata": {},
   "outputs": [],
   "source": [
    "LD_delay = 3\n",
    "BJ_delay = 2"
   ]
  },
  {
   "cell_type": "code",
   "execution_count": 4,
   "metadata": {},
   "outputs": [
    {
     "name": "stdout",
     "output_type": "stream",
     "text": [
      "562.9358832836151\n"
     ]
    }
   ],
   "source": [
    "#for c in lst:#可运行本目录下所有除了test3.py以外的py文件  \n",
    "#    if os.path.isfile(c) and c.endswith('.py') and c.find(\"test3\")==-1:    #去掉AllTest.py文件  \n",
    "#        print(c)  \n",
    "#        os.system('python '+os.path.join(os.getcwd(),c)) \n",
    "        \n",
    "import os \n",
    "import time\n",
    "\n",
    "start = time.time()\n",
    "lst = os.listdir(os.getcwd())\n",
    "str1 = 'python '+ 'BJ_aqi48.py '+str(BJ_delay)\n",
    "str2 = 'python '+ 'LD_aqi48.py '+str(LD_delay)\n",
    "#str3 = 'python '+ 'BJ_iteration.py '+str(BJ_delay)\n",
    "#str4 = 'python '+ 'LD_iteration.py '+str(LD_delay)\n",
    "#str5 = 'python '+ 'BJ_aqi48-75.py '+str(BJ_delay)\n",
    "str6 = 'python '+ 'LD_aqi48-75.py '+str(LD_delay)\n",
    "str7 = 'python '+ 'BJ_aqi48-75_include_April.py '+str(BJ_delay)\n",
    "str8 = 'python '+ 'BJ_aqi48_include_April.py '+str(BJ_delay)\n",
    "str9 = 'python '+ 'BJ_aqi48_include_April_smape.py '+str(BJ_delay)\n",
    "str10 = 'python '+'BJ_aqi48_include_April(enhance2hour).py ' +str(BJ_delay)\n",
    "\n",
    "os.system(str1+'&&'+str2+'&&'+str7+'&&'+str8+ '&&'+str9+'&&'+str6)\n",
    "#os.system('python merge_aqi48_iteration.py')\n",
    "#os.system('python merge_aqi48_iteration_include_April.py')\n",
    "\n",
    "end = time.time()\n",
    "print(end-start)"
   ]
  },
  {
   "cell_type": "code",
   "execution_count": 20,
   "metadata": {},
   "outputs": [
    {
     "data": {
      "text/plain": [
       "0"
      ]
     },
     "execution_count": 20,
     "metadata": {},
     "output_type": "execute_result"
    }
   ],
   "source": [
    "\n",
    "os.system('python '+ 'BJ_aqi48-75_include_April_smape_weather.py '+str(BJ_delay))\n",
    "os.system('python merge_aqi48_iteration_include_April.py')"
   ]
  },
  {
   "cell_type": "code",
   "execution_count": 19,
   "metadata": {},
   "outputs": [
    {
     "data": {
      "text/plain": [
       "0"
      ]
     },
     "execution_count": 19,
     "metadata": {},
     "output_type": "execute_result"
    }
   ],
   "source": [
    "str10 = 'python '+'BJ_aqi48_include_April_enhance2hour.py ' +str(BJ_delay)\n",
    "os.system(str10)"
   ]
  },
  {
   "cell_type": "code",
   "execution_count": 5,
   "metadata": {},
   "outputs": [
    {
     "data": {
      "text/plain": [
       "0"
      ]
     },
     "execution_count": 5,
     "metadata": {},
     "output_type": "execute_result"
    }
   ],
   "source": [
    "import os \n",
    "import time\n",
    "\n",
    "start = time.time()\n",
    "lst = os.listdir(os.getcwd())\n",
    "str1 = 'python '+ 'BJ_aqi48-75_include_April_smape_weather_new.py '+str(BJ_delay)\n",
    "os.system(str1)"
   ]
  },
  {
   "cell_type": "code",
   "execution_count": null,
   "metadata": {},
   "outputs": [],
   "source": []
  }
 ],
 "metadata": {
  "kernelspec": {
   "display_name": "Python [conda env:tensorflow_cpu]",
   "language": "python",
   "name": "conda-env-tensorflow_cpu-py"
  },
  "language_info": {
   "codemirror_mode": {
    "name": "ipython",
    "version": 3
   },
   "file_extension": ".py",
   "mimetype": "text/x-python",
   "name": "python",
   "nbconvert_exporter": "python",
   "pygments_lexer": "ipython3",
   "version": "3.6.4"
  }
 },
 "nbformat": 4,
 "nbformat_minor": 2
}
